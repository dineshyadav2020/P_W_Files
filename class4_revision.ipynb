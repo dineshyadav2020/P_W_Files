{
  "nbformat": 4,
  "nbformat_minor": 0,
  "metadata": {
    "colab": {
      "name": "class4.ipynb",
      "provenance": []
    },
    "kernelspec": {
      "name": "python3",
      "display_name": "Python 3"
    }
  },
  "cells": [
    {
      "cell_type": "markdown",
      "metadata": {
        "id": "vP-hBN3KwB7X",
        "colab_type": "text"
      },
      "source": [
        "###Revision\n"
      ]
    },
    {
      "cell_type": "markdown",
      "metadata": {
        "id": "4vkEuADpwUH1",
        "colab_type": "text"
      },
      "source": [
        "### Python 3\n",
        "\n",
        "\n",
        "*   Iterator (for/while loops)\n",
        "*   Conditional (if/elif/else)\n",
        "*   Function\n",
        "\n",
        "\n",
        "\n",
        "*   Numpy: array\n",
        "*   Scipy, Matplotlib, Math\n",
        "\n",
        "\n",
        "### Calculus\n",
        "\n",
        "\n",
        "\n",
        "*   Derivative\n",
        "*   Integration\n",
        "*   ODE/PDE\n",
        "\n",
        "\n",
        "### Statistics\n",
        "\n",
        "\n",
        "*   Curve-fitting\n",
        "*   Monte-Carlo Error propagation\n",
        "*   Linest: least square fitting \n",
        "\n",
        "\n",
        "### Visualisation/Input-Output \n",
        "\n",
        "\n",
        "\n",
        "*   Scatter/Point plot\n",
        "*   Histogram\n",
        "*   Distribution: Box/Violin plot\n",
        "*   Error bar, confidence interval\n",
        "*   Contour2D, Histogram 2D \n",
        "*   Projection Map (latitude/longitude: basemap)\n",
        "\n",
        "\n",
        "### Algebra/Matrix\n",
        "\n",
        "\n",
        "\n",
        "*   Decomposition Matrix\n",
        "*   Dot, Transpose, Inverse \n",
        "\n",
        "\n",
        "\n",
        "\n",
        "\n",
        "\n",
        "\n",
        "\n",
        "\n",
        "\n",
        "\n",
        "\n",
        "\n",
        "\n",
        "\n",
        "\n",
        "\n",
        "\n",
        "\n",
        "\n"
      ]
    },
    {
      "cell_type": "code",
      "metadata": {
        "id": "9J1DZcdkwHkr",
        "colab_type": "code",
        "colab": {}
      },
      "source": [
        ""
      ],
      "execution_count": null,
      "outputs": []
    }
  ]
}