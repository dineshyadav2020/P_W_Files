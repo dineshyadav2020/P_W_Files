{
  "nbformat": 4,
  "nbformat_minor": 0,
  "metadata": {
    "colab": {
      "name": "projectile_motion.ipynb",
      "provenance": []
    },
    "kernelspec": {
      "name": "python3",
      "display_name": "Python 3"
    }
  },
  "cells": [
    {
      "cell_type": "code",
      "metadata": {
        "id": "96C-q_qc2rQe",
        "colab_type": "code",
        "colab": {}
      },
      "source": [
        "import numpy as np\n",
        "import matplotlib.pyplot as plt\n",
        "\n"
      ],
      "execution_count": 1,
      "outputs": []
    },
    {
      "cell_type": "code",
      "metadata": {
        "id": "YPKou3jD2wpt",
        "colab_type": "code",
        "colab": {}
      },
      "source": [
        "x0, y0 = 0, 0\n",
        "theta = np.radians(30)\n",
        "\n",
        "u = 5 #km/h\n",
        "ux = u*np.cos(theta)\n",
        "uy = u*np.sin(theta)\n",
        "\n",
        "ax = 0\n",
        "ay = -9.8 \n",
        "\n",
        "t = 0"
      ],
      "execution_count": 2,
      "outputs": []
    },
    {
      "cell_type": "code",
      "metadata": {
        "id": "cecdI_q43t1l",
        "colab_type": "code",
        "colab": {}
      },
      "source": [
        "def updateV(u, a, dt):\n",
        "    v = u + a*dt\n",
        "    return v\n",
        "\n",
        "def updateX(pos, u, a, dt):\n",
        "    new_u = updateV(u, a, dt)\n",
        "    average_u = (u + new_u)/2\n",
        "    new_pos = pos + average_u*dt\n",
        "    return new_pos, new_u"
      ],
      "execution_count": 3,
      "outputs": []
    },
    {
      "cell_type": "code",
      "metadata": {
        "id": "LIY7uWSP4u5v",
        "colab_type": "code",
        "colab": {
          "base_uri": "https://localhost:8080/",
          "height": 34
        },
        "outputId": "353d7c37-9181-4f99-9391-b6204f402326"
      },
      "source": [
        "dt = 0.01\n",
        "updateV(ux, ax, dt)"
      ],
      "execution_count": 4,
      "outputs": [
        {
          "output_type": "execute_result",
          "data": {
            "text/plain": [
              "4.330127018922194"
            ]
          },
          "metadata": {
            "tags": []
          },
          "execution_count": 4
        }
      ]
    },
    {
      "cell_type": "code",
      "metadata": {
        "id": "pblLBweo42l6",
        "colab_type": "code",
        "colab": {
          "base_uri": "https://localhost:8080/",
          "height": 52
        },
        "outputId": "ea971aa0-916f-46f2-d8b3-1bca86b9715d"
      },
      "source": [
        "updateX(x0, ux, ax, dt), updateX(y0, uy, ay, dt)"
      ],
      "execution_count": 5,
      "outputs": [
        {
          "output_type": "execute_result",
          "data": {
            "text/plain": [
              "((0.04330127018922194, 4.330127018922194),\n",
              " (0.024509999999999997, 2.4019999999999997))"
            ]
          },
          "metadata": {
            "tags": []
          },
          "execution_count": 5
        }
      ]
    },
    {
      "cell_type": "code",
      "metadata": {
        "id": "mQqBEUAJ4_mq",
        "colab_type": "code",
        "colab": {}
      },
      "source": [
        "x_, y_ = x0, y0\n",
        "ux_, uy_ = ux, uy\n",
        "\n",
        "t_ = 0\n",
        "dt = 0.001\n",
        "\n",
        "xall, yall = [], []\n",
        "\n",
        "for i in range(400):\n",
        "    x_, ux_ = updateX(x_, ux_, ax, dt)\n",
        "    y_, uy_ = updateX(y_, uy_, ay, dt)\n",
        "\n",
        "    xall.append(x_)\n",
        "    yall.append(y_)\n",
        "    \n",
        "    t_ = t_ + dt\n",
        "\n",
        "    if y_<0:\n",
        "        break\n"
      ],
      "execution_count": 6,
      "outputs": []
    },
    {
      "cell_type": "code",
      "metadata": {
        "id": "OUGJPZ6Y6Syo",
        "colab_type": "code",
        "colab": {
          "base_uri": "https://localhost:8080/",
          "height": 282
        },
        "outputId": "0fc764e0-b9f8-42fa-a68f-c42051e23e23"
      },
      "source": [
        "plt.plot(xall, yall)"
      ],
      "execution_count": 7,
      "outputs": [
        {
          "output_type": "execute_result",
          "data": {
            "text/plain": [
              "[<matplotlib.lines.Line2D at 0x7f26c3ac1cc0>]"
            ]
          },
          "metadata": {
            "tags": []
          },
          "execution_count": 7
        },
        {
          "output_type": "display_data",
          "data": {
            "image/png": "[encoded data removed]",
            "text/plain": [
              "<Figure size 432x288 with 1 Axes>"
            ]
          },
          "metadata": {
            "tags": [],
            "needs_background": "light"
          }
        }
      ]
    },
    {
      "cell_type": "code",
      "metadata": {
        "id": "67gnjWUF6ako",
        "colab_type": "code",
        "colab": {}
      },
      "source": [
        "x_, y_ = x0, y0\n",
        "ux_, uy_ = ux, uy\n",
        "\n",
        "t_ = 0\n",
        "dt = 0.001\n",
        "\n",
        "xall, yall = [], []\n",
        "\n",
        "#counter = 0\n",
        "while y_>=0:\n",
        "    x_, ux_ = updateX(x_, ux_, ax, dt)\n",
        "    y_, uy_ = updateX(y_, uy_, ay, dt)\n",
        "\n",
        "    xall.append(x_)\n",
        "    yall.append(y_)\n",
        "    \n",
        "    t_ = t_ + dt\n",
        "\n",
        "    #counter +=1"
      ],
      "execution_count": 8,
      "outputs": []
    },
    {
      "cell_type": "code",
      "metadata": {
        "id": "08Dbmeob7gEH",
        "colab_type": "code",
        "colab": {
          "base_uri": "https://localhost:8080/",
          "height": 282
        },
        "outputId": "b68fc37b-3d0b-49a2-cb01-8f4396d93085"
      },
      "source": [
        "plt.plot(xall, yall)"
      ],
      "execution_count": 9,
      "outputs": [
        {
          "output_type": "execute_result",
          "data": {
            "text/plain": [
              "[<matplotlib.lines.Line2D at 0x7f26c3a6bac8>]"
            ]
          },
          "metadata": {
            "tags": []
          },
          "execution_count": 9
        },
        {
          "output_type": "display_data",
          "data": {
            "image/png": "[encoded data removed]",
            "text/plain": [
              "<Figure size 432x288 with 1 Axes>"
            ]
          },
          "metadata": {
            "tags": [],
            "needs_background": "light"
          }
        }
      ]
    },
    {
      "cell_type": "code",
      "metadata": {
        "id": "4Wi-d3Xs7lHz",
        "colab_type": "code",
        "colab": {}
      },
      "source": [
        "def cannon(x0, y0, u, theta):\n",
        "    x_, y_ = x0, y0\n",
        "\n",
        "    theta = np.radians(theta)\n",
        "\n",
        "    u = 5 #km/h\n",
        "    ux_ = u*np.cos(theta)\n",
        "    uy_ = u*np.sin(theta)\n",
        "\n",
        "    ax = 0\n",
        "    ay = -9.8 \n",
        "\n",
        "    t_ = 0\n",
        "    dt = 0.001\n",
        "\n",
        "    xall, yall = [], []\n",
        "\n",
        "    #counter = 0\n",
        "    while y_>=0:\n",
        "        x_, ux_ = updateX(x_, ux_, ax, dt)\n",
        "        y_, uy_ = updateX(y_, uy_, ay, dt)\n",
        "\n",
        "        xall.append(x_)\n",
        "        yall.append(y_)\n",
        "        \n",
        "        t_ = t_ + dt\n",
        "\n",
        "        #counter +=1\n",
        "\n",
        "    return xall, yall\n",
        "        "
      ],
      "execution_count": 10,
      "outputs": []
    },
    {
      "cell_type": "code",
      "metadata": {
        "id": "lx7AsBvW84mq",
        "colab_type": "code",
        "colab": {}
      },
      "source": [
        "x0, y0, u = 0, 0, 5\n",
        "\n",
        "thetaA = 30\n",
        "xallA, yallA = cannon(x0, y0, u, thetaA)\n",
        "\n",
        "thetaB = 60\n",
        "xallB, yallB = cannon(x0, y0, u, thetaB)"
      ],
      "execution_count": 11,
      "outputs": []
    },
    {
      "cell_type": "code",
      "metadata": {
        "id": "Yd9z98dQ9AbI",
        "colab_type": "code",
        "colab": {
          "base_uri": "https://localhost:8080/",
          "height": 299
        },
        "outputId": "d744d3c1-7e0e-4a69-dc4d-ea78bf58f7de"
      },
      "source": [
        "plt.plot(xallA, yallA, label=thetaA)\n",
        "plt.plot(xallB, yallB, label=thetaB)\n",
        "plt.xlabel('X')\n",
        "plt.ylabel('Y')\n",
        "plt.legend()"
      ],
      "execution_count": 12,
      "outputs": [
        {
          "output_type": "execute_result",
          "data": {
            "text/plain": [
              "<matplotlib.legend.Legend at 0x7f26c359da20>"
            ]
          },
          "metadata": {
            "tags": []
          },
          "execution_count": 12
        },
        {
          "output_type": "display_data",
          "data": {
            "image/png": "[encoded data removed]",
            "text/plain": [
              "<Figure size 432x288 with 1 Axes>"
            ]
          },
          "metadata": {
            "tags": [],
            "needs_background": "light"
          }
        }
      ]
    },
    {
      "cell_type": "code",
      "metadata": {
        "id": "Sx7mdW1u9Ci_",
        "colab_type": "code",
        "colab": {}
      },
      "source": [
        "x0, y0, u = 0, 10, 5\n",
        "\n",
        "thetaA = 30\n",
        "xallA, yallA = cannon(x0, y0, u, thetaA)\n",
        "\n",
        "thetaB = 60\n",
        "xallB, yallB = cannon(x0, y0, u, thetaB)"
      ],
      "execution_count": 13,
      "outputs": []
    },
    {
      "cell_type": "code",
      "metadata": {
        "id": "Qwe67yyB-Bfd",
        "colab_type": "code",
        "colab": {
          "base_uri": "https://localhost:8080/",
          "height": 296
        },
        "outputId": "2d9b81e8-c44f-45b0-8eb8-9b76af30349c"
      },
      "source": [
        "plt.plot(xallA, yallA, label=thetaA)\n",
        "plt.plot(xallB, yallB, label=thetaB)\n",
        "plt.xlabel('X')\n",
        "plt.ylabel('Y')\n",
        "plt.legend()"
      ],
      "execution_count": 14,
      "outputs": [
        {
          "output_type": "execute_result",
          "data": {
            "text/plain": [
              "<matplotlib.legend.Legend at 0x7f26c34a9e48>"
            ]
          },
          "metadata": {
            "tags": []
          },
          "execution_count": 14
        },
        {
          "output_type": "display_data",
          "data": {
            "image/png": "[encoded data removed]",
            "text/plain": [
              "<Figure size 432x288 with 1 Axes>"
            ]
          },
          "metadata": {
            "tags": [],
            "needs_background": "light"
          }
        }
      ]
    },
    {
      "cell_type": "code",
      "metadata": {
        "id": "Nr-DciUBH1Oe",
        "colab_type": "code",
        "colab": {
          "base_uri": "https://localhost:8080/",
          "height": 265
        },
        "outputId": "736c13d7-6e14-4dc1-d7ad-4e4b32d4f246"
      },
      "source": [
        "plt.ion()\n",
        "fig, ax = plt.subplots(num=2)\n",
        "ax.plot(xall, yall, '--')\n",
        "for i in range(len(xall)):\n",
        "    ax.plot(xall[i], yall[i], 'g.')\n",
        "    plt.pause(0.01)\n",
        "\n",
        "plt.ioff()\n",
        "plt.show()"
      ],
      "execution_count": 42,
      "outputs": [
        {
          "output_type": "display_data",
          "data": {
            "image/png": "[encoded data removed]",
            "text/plain": [
              "<Figure size 432x288 with 1 Axes>"
            ]
          },
          "metadata": {
            "tags": [],
            "needs_background": "light"
          }
        }
      ]
    },
    {
      "cell_type": "code",
      "metadata": {
        "id": "X_5Bg3t3A03U",
        "colab_type": "code",
        "colab": {}
      },
      "source": [
        ""
      ],
      "execution_count": null,
      "outputs": []
    }
  ]
}