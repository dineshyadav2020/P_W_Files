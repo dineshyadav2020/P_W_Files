{
 "cells": [
  {
   "cell_type": "markdown",
   "metadata": {},
   "source": [
    "# Simple plot of data from txt file\n",
    "## txt file contains text lines and numerical data\n",
    "- Comments: # for **single line comment** and ''' lines ''' for **multilines comment**\n",
    "- **Shortcut command to run** file.ipynb in Jupyter in windows OS: Shift+Enter \n",
    "- \n",
    "- open txt file\n",
    "- create emply lists for x and y values\n",
    "- read line by line from txt file\n",
    "- if line starts with any character (here #), continue without doing anything\n",
    "- if line starts with other than #, then slpit the line by delimiter (here is a space)\n",
    "- specify which are which\n",
    "- add those values in respective parameters, if needed\n",
    "- plot interested lists\n",
    "- format plot\n",
    "- save plot"
   ]
  },
  {
   "cell_type": "code",
   "execution_count": 62,
   "metadata": {},
   "outputs": [],
   "source": [
    "import matplotlib.pyplot as plt         # only one module is necessary here for this practice\n",
    "#import random as random                # if no need, comment \n",
    "#import json as json\n",
    "#import pandas as pd\n",
    "import numpy as np"
   ]
  },
  {
   "cell_type": "code",
   "execution_count": 76,
   "metadata": {},
   "outputs": [
    {
     "name": "stdout",
     "output_type": "stream",
     "text": [
      "0.5\n"
     ]
    },
    {
     "data": {
      "image/png": "[encoded data removed]",
      "text/plain": [
       "<Figure size 288x288 with 1 Axes>"
      ]
     },
     "metadata": {
      "needs_background": "light"
     },
     "output_type": "display_data"
    }
   ],
   "source": [
    "with open (\"exampledata.txt\",'r') as f:\n",
    "    i = 0                                       #it works even without use of i\n",
    "    X = []                                      # create blank list for x axis values\n",
    "    Y = []\n",
    "    R = []\n",
    "    for line in f:                              #each lin in file f\n",
    "        #print(line)\n",
    "        if line.startswith(\"#\"):                #if line start with # character, continue without doing any work\n",
    "            #print(line)\n",
    "            continue\n",
    "        else:                                   #if line start with othern than # then slpit the line by a space ' '\n",
    "            lineParts = line.split(' ')\n",
    "            #print(lineParts)\n",
    "            t = lineParts[0]                    # after slpit, 0 intexed value is time\n",
    "            #print(t)\n",
    "            x = float(lineParts[1])             # 1 intexed value is x, check w/wo float()\n",
    "            #print(x)\n",
    "            X.append(x)                         # add values of x in list X\n",
    "            #print(X)\n",
    "            y = float(lineParts[2])        \n",
    "            #print(y)\n",
    "            r = y / x\n",
    "            #print(\"resistance = \", r,\"Ohm\")\n",
    "            Y.append(y)\n",
    "            '''print(Y)'''                       # two ways of commenting\n",
    "            #print(Y)\n",
    "            #print(i,'\\t',x,'\\t',y)\n",
    "            R.append(r)\n",
    "            #print(R)\n",
    "            i = i + 1\n",
    "#print(i,x,y)\n",
    "#print(Y)\n",
    "#print(R)\n",
    "#print(len(R))\n",
    "avgR = sum(R)/len(R)\n",
    "myMean = np.mean(R)\n",
    "print(myMean)\n",
    "#print(\"resistance = \", avgR ,\"Ohm\")\n",
    "#print(X,Y)\n",
    "plt.figure(figsize = [4,4])                      #figsize(width, height) in inches\n",
    "#plt.bar(X,Y)       # ^ . try withh plt.plot\n",
    "plt.scatter(X,Y,color = 'g', marker = '^')       # ^ . try withh plt.plot\n",
    "plt.axis([0, 25, 0, 10])                         #axis[xmin,xmax, ymin,ymax]\n",
    "#another way to set axis limit\n",
    "#plt.xlim(xmin,xmax)\n",
    "#plt.ylim(ymin,ymax)\n",
    "plt.title('Practice, NPSSC2020', fontsize=16)\n",
    "plt.xlabel('Current (A)', fontsize=14)\n",
    "plt.ylabel('Voltage (V)', fontsize=14)\n",
    "plt.tight_layout()                             # this is for margin\n",
    "plt.grid(True)                                 # comment this if u do not need grid\n",
    "plt.savefig(\"testplot.png\")                    # png, jpg, eps, pdf as u like\n",
    "plt.show()"
   ]
  },
  {
   "cell_type": "code",
   "execution_count": null,
   "metadata": {},
   "outputs": [],
   "source": []
  }
 ],
 "metadata": {
  "kernelspec": {
   "display_name": "Python 3",
   "language": "python",
   "name": "python3"
  },
  "language_info": {
   "codemirror_mode": {
    "name": "ipython",
    "version": 3
   },
   "file_extension": ".py",
   "mimetype": "text/x-python",
   "name": "python",
   "nbconvert_exporter": "python",
   "pygments_lexer": "ipython3",
   "version": "3.7.6"
  }
 },
 "nbformat": 4,
 "nbformat_minor": 4
}
