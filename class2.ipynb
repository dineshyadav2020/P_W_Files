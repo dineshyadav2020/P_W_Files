{
 "cells": [
  {
   "cell_type": "code",
   "execution_count": null,
   "metadata": {
    "colab": {},
    "colab_type": "code",
    "id": "BzRaNA9YhwqH"
   },
   "outputs": [],
   "source": [
    "import numpy as np\n",
    "import matplotlib.pyplot as plt"
   ]
  },
  {
   "cell_type": "markdown",
   "metadata": {
    "colab_type": "text",
    "id": "Vr1N0QCHqi6V"
   },
   "source": [
    "Revision:\n",
    "\n",
    "1. numpy: numerical/vector/matrix\n",
    "2. scipy: scientific/statistical\n",
    "3. matplotlib: visualisation\n",
    "4. sympy: symbolic python sinx -> cosx \n",
    "5. scikit-learn: machine learning\n",
    "6. stats-model: linear regression, statistics"
   ]
  },
  {
   "cell_type": "markdown",
   "metadata": {
    "colab_type": "text",
    "id": "VOJrZbH6rNEP"
   },
   "source": [
    "Basic command:\n",
    "\n",
    "1. +, -, *, %\n",
    "\n",
    "2. List [], Dict {}, Array"
   ]
  },
  {
   "cell_type": "code",
   "execution_count": null,
   "metadata": {
    "colab": {
     "base_uri": "https://localhost:8080/",
     "height": 34
    },
    "colab_type": "code",
    "id": "u1WLa3fArZfH",
    "outputId": "62ee31ed-88fc-4964-9a19-9c16f9224efa"
   },
   "outputs": [
    {
     "data": {
      "text/plain": [
       "array([ 6,  9, 15, 18])"
      ]
     },
     "execution_count": 11,
     "metadata": {
      "tags": []
     },
     "output_type": "execute_result"
    }
   ],
   "source": [
    "# Containers\n",
    "# Array: homogenous type\n",
    "a = np.array([2,3,5,6])\n",
    "\n",
    "a*3"
   ]
  },
  {
   "cell_type": "code",
   "execution_count": null,
   "metadata": {
    "colab": {
     "base_uri": "https://localhost:8080/",
     "height": 34
    },
    "colab_type": "code",
    "id": "XoYvt7V_rs7K",
    "outputId": "1b3b076a-9c36-4052-f296-c3242b5480e5"
   },
   "outputs": [
    {
     "data": {
      "text/plain": [
       "[2, 3, 'a', 6, 2, 3, 'a', 6, 2, 3, 'a', 6]"
      ]
     },
     "execution_count": 10,
     "metadata": {
      "tags": []
     },
     "output_type": "execute_result"
    }
   ],
   "source": [
    "# List: mix type\n",
    "\n",
    "b = [2,3,'a', 6]\n",
    "\n",
    "b*3"
   ]
  },
  {
   "cell_type": "code",
   "execution_count": null,
   "metadata": {
    "colab": {
     "base_uri": "https://localhost:8080/",
     "height": 34
    },
    "colab_type": "code",
    "id": "Yzjqz9n0sbAz",
    "outputId": "a24fb610-a7be-4820-a597-bea478add1ac"
   },
   "outputs": [
    {
     "name": "stdout",
     "output_type": "stream",
     "text": [
      "The sqrt of 0 is 0.\n"
     ]
    }
   ],
   "source": [
    "# Conditional\n",
    "d = 4 #-4, 0\n",
    "\n",
    "if d>0:\n",
    "    t = np.sqrt(d)\n",
    "    print(f'The Sqrt of {d} is {t}.')\n",
    "elif d<0:\n",
    "    print(f'The sqrt of {d} is undefined.')\n",
    "else:\n",
    "    print(f'The sqrt of {d} is 0.')"
   ]
  },
  {
   "cell_type": "code",
   "execution_count": null,
   "metadata": {
    "colab": {
     "base_uri": "https://localhost:8080/",
     "height": 34
    },
    "colab_type": "code",
    "id": "3QYp4HMTvY9L",
    "outputId": "8c1cff18-967c-4523-99cc-0172dbbff653"
   },
   "outputs": [
    {
     "data": {
      "text/plain": [
       "16"
      ]
     },
     "execution_count": 24,
     "metadata": {
      "tags": []
     },
     "output_type": "execute_result"
    }
   ],
   "source": [
    "# Indexing\n",
    "d = np.array([4, 9, 16, -25])\n",
    "\n",
    "d[-1], d[0]"
   ]
  },
  {
   "cell_type": "code",
   "execution_count": null,
   "metadata": {
    "colab": {
     "base_uri": "https://localhost:8080/",
     "height": 104
    },
    "colab_type": "code",
    "id": "VbM9Np4ItAEV",
    "outputId": "c9b0a316-0774-4789-e4de-046d0e385665"
   },
   "outputs": [
    {
     "name": "stdout",
     "output_type": "stream",
     "text": [
      "The Sqrt of 4 is 2.0.\n",
      "The Sqrt of 9 is 3.0.\n",
      "The Sqrt of 16 is 4.0.\n",
      "The sqrt of -25 is undefined.\n",
      "The sqrt of 0 is 0.\n"
     ]
    }
   ],
   "source": [
    "# Iterator: for(finite)/while(open ended)\n",
    "d = np.array([4, 9, 16, -25, 0 ])\n",
    "\n",
    "for i, value in enumerate(d):\n",
    "\n",
    "    if value>0:\n",
    "        t = np.sqrt(value)\n",
    "        print(f'The Sqrt of {value} is {t}.')\n",
    "    elif value<0:\n",
    "        print(f'The sqrt of {value} is undefined.')\n",
    "    else:\n",
    "        print(f'The sqrt of {value} is 0.')"
   ]
  },
  {
   "cell_type": "code",
   "execution_count": null,
   "metadata": {
    "colab": {
     "base_uri": "https://localhost:8080/",
     "height": 34
    },
    "colab_type": "code",
    "id": "Wp9VGEgVwgMv",
    "outputId": "f1b810ab-7858-4f88-ff98-c3ec907363a0"
   },
   "outputs": [
    {
     "data": {
      "text/plain": [
       "array([  8,  18,  32, -50,   0])"
      ]
     },
     "execution_count": 30,
     "metadata": {
      "tags": []
     },
     "output_type": "execute_result"
    }
   ],
   "source": [
    "d*2"
   ]
  },
  {
   "cell_type": "code",
   "execution_count": null,
   "metadata": {
    "colab": {
     "base_uri": "https://localhost:8080/",
     "height": 104
    },
    "colab_type": "code",
    "id": "qcu9R33Uw4dO",
    "outputId": "995973b1-542f-4abc-a07b-01038828a15f"
   },
   "outputs": [
    {
     "name": "stdout",
     "output_type": "stream",
     "text": [
      "0 4 8\n",
      "1 9 18\n",
      "2 16 32\n",
      "3 -25 -50\n",
      "4 0 0\n"
     ]
    }
   ],
   "source": [
    "for i, value in enumerate(d):\n",
    "    print(i, value, 2*value)"
   ]
  },
  {
   "cell_type": "code",
   "execution_count": null,
   "metadata": {
    "colab": {
     "base_uri": "https://localhost:8080/",
     "height": 34
    },
    "colab_type": "code",
    "id": "Pm47cYucw-Rh",
    "outputId": "20dbdf54-1b72-48d2-9094-9db6ae46d08a"
   },
   "outputs": [
    {
     "data": {
      "text/plain": [
       "3.0"
      ]
     },
     "execution_count": 34,
     "metadata": {
      "tags": []
     },
     "output_type": "execute_result"
    }
   ],
   "source": [
    "# Function \n",
    "# sqrt: name \n",
    "# x: argument\n",
    "\n",
    "def sqrt(x):\n",
    "    y = x**0.5\n",
    "    return y\n",
    "\n",
    "sqrt(9)\n"
   ]
  },
  {
   "cell_type": "code",
   "execution_count": null,
   "metadata": {
    "colab": {
     "base_uri": "https://localhost:8080/",
     "height": 34
    },
    "colab_type": "code",
    "id": "SHN_y5XUxK0s",
    "outputId": "d167801a-d476-4a17-dc8a-a8733ba807a9"
   },
   "outputs": [
    {
     "data": {
      "text/plain": [
       "1.2649110640673518"
      ]
     },
     "execution_count": 41,
     "metadata": {
      "tags": []
     },
     "output_type": "execute_result"
    }
   ],
   "source": [
    "# Argument, Key argument: x, a\n",
    "def parabola(x, a=1, x0=0.2):\n",
    "    y = np.sqrt(4*a*(x-x0))\n",
    "    return y\n",
    "\n",
    "parabola(0.5, 1), parabola(0.5), parabola(0.5, 2)\n",
    "\n",
    "parabola(0.5, x0=0.1)"
   ]
  },
  {
   "cell_type": "code",
   "execution_count": null,
   "metadata": {
    "colab": {
     "base_uri": "https://localhost:8080/",
     "height": 52
    },
    "colab_type": "code",
    "id": "gHAL7QAFyTPz",
    "outputId": "519cefdf-e1c5-4f68-ef40-f7bece608335"
   },
   "outputs": [
    {
     "data": {
      "text/plain": [
       "(array([  1.,  12.,  23.,  34.,  45.,  56.,  67.,  78.,  89., 100.]),\n",
       " array([ 1, 12, 23, 34, 45, 56, 67, 78, 89]))"
      ]
     },
     "execution_count": 48,
     "metadata": {
      "tags": []
     },
     "output_type": "execute_result"
    }
   ],
   "source": [
    "#Grid\n",
    "#np.linspace, np.arange\n",
    "\n",
    "lp = np.linspace(1,100,10) # right limit inclusive\n",
    "ar = np.arange(1,100,11)  # right limit exclusive\n",
    "lp, ar"
   ]
  },
  {
   "cell_type": "code",
   "execution_count": null,
   "metadata": {
    "colab": {
     "base_uri": "https://localhost:8080/",
     "height": 296
    },
    "colab_type": "code",
    "id": "BmDIO4_CzdMV",
    "outputId": "7a4f6697-76e9-470c-f3ee-2563e453bbec"
   },
   "outputs": [
    {
     "data": {
      "text/plain": [
       "Text(0, 0.5, '$Sin(x)$')"
      ]
     },
     "execution_count": 53,
     "metadata": {
      "tags": []
     },
     "output_type": "execute_result"
    },
    {
     "data": {
      "image/png": "[encoded data removed]",
      "text/plain": [
       "<Figure size 432x288 with 1 Axes>"
      ]
     },
     "metadata": {
      "needs_background": "light",
      "tags": []
     },
     "output_type": "display_data"
    }
   ],
   "source": [
    "x = np.linspace(-2*np.pi, 2*np.pi, 100)\n",
    "y = np.sin(x)\n",
    "\n",
    "plt.plot(x,y)\n",
    "plt.xlabel('x')\n",
    "plt.ylabel(r'$Sin(x)$')"
   ]
  },
  {
   "cell_type": "code",
   "execution_count": null,
   "metadata": {
    "colab": {
     "base_uri": "https://localhost:8080/",
     "height": 282
    },
    "colab_type": "code",
    "id": "NmlPYfcn0YBY",
    "outputId": "9ca23ffb-883d-439d-f51a-615c7711ff06"
   },
   "outputs": [
    {
     "data": {
      "text/plain": [
       "<matplotlib.legend.Legend at 0x7fb68c39de10>"
      ]
     },
     "execution_count": 60,
     "metadata": {
      "tags": []
     },
     "output_type": "execute_result"
    },
    {
     "data": {
      "image/png": "[encoded data removed]",
      "text/plain": [
       "<Figure size 432x288 with 1 Axes>"
      ]
     },
     "metadata": {
      "needs_background": "light",
      "tags": []
     },
     "output_type": "display_data"
    }
   ],
   "source": [
    "# First principle\n",
    "h = 0.01\n",
    "measured = (np.sin(x+h) - np.sin(x))/h\n",
    "exact = np.cos(x)\n",
    "\n",
    "plt.plot(x, measured, label='measured')\n",
    "plt.plot(x, exact, '--' ,label='exact')\n",
    "plt.legend()\n"
   ]
  },
  {
   "cell_type": "code",
   "execution_count": null,
   "metadata": {
    "colab": {},
    "colab_type": "code",
    "id": "8aoE9UO61TOM"
   },
   "outputs": [],
   "source": [
    "def derivative(function, x, h):\n",
    "    y = (function(x+h) - function(x))/h\n",
    "    return y"
   ]
  },
  {
   "cell_type": "code",
   "execution_count": null,
   "metadata": {
    "colab": {
     "base_uri": "https://localhost:8080/",
     "height": 282
    },
    "colab_type": "code",
    "id": "G0D9eHsH2AfW",
    "outputId": "3e367f87-32dc-473e-b691-eb560e2baa5b"
   },
   "outputs": [
    {
     "data": {
      "text/plain": [
       "<matplotlib.legend.Legend at 0x7fb68c215278>"
      ]
     },
     "execution_count": 64,
     "metadata": {
      "tags": []
     },
     "output_type": "execute_result"
    },
    {
     "data": {
      "image/png": "[encoded data removed]",
      "text/plain": [
       "<Figure size 432x288 with 1 Axes>"
      ]
     },
     "metadata": {
      "needs_background": "light",
      "tags": []
     },
     "output_type": "display_data"
    }
   ],
   "source": [
    "# First principle\n",
    "h = 0.01\n",
    "measured = (np.sin(x+h) - np.sin(x))/h\n",
    "exact = np.cos(x)\n",
    "measured_using_def = derivative(np.sin, x, h)\n",
    "\n",
    "plt.plot(x, measured, lw=3, label='measured')\n",
    "plt.plot(x, exact, '--' ,label='exact')\n",
    "plt.plot(x, measured_using_def, '-.', label='measured using def')\n",
    "plt.legend()\n"
   ]
  },
  {
   "cell_type": "code",
   "execution_count": null,
   "metadata": {
    "colab": {
     "base_uri": "https://localhost:8080/",
     "height": 296
    },
    "colab_type": "code",
    "id": "mjMLS3N52PTL",
    "outputId": "879c06ee-2500-4d25-8fd3-dbff6671744a"
   },
   "outputs": [
    {
     "data": {
      "text/plain": [
       "<matplotlib.legend.Legend at 0x7fb68c035a58>"
      ]
     },
     "execution_count": 68,
     "metadata": {
      "tags": []
     },
     "output_type": "execute_result"
    },
    {
     "data": {
      "image/png": "[encoded data removed]",
      "text/plain": [
       "<Figure size 432x288 with 1 Axes>"
      ]
     },
     "metadata": {
      "needs_background": "light",
      "tags": []
     },
     "output_type": "display_data"
    }
   ],
   "source": [
    "def quad(t):\n",
    "    return t**3 - t**2 + 3*t + 6\n",
    "\n",
    "t = np.linspace(-100,100,100)\n",
    "h = 0.1\n",
    "\n",
    "measured = derivative(quad, t, h)\n",
    "exact = 3*t**2 - 2*t + 3\n",
    "\n",
    "plt.plot(t, measured, label='measured')\n",
    "plt.plot(t, exact, '--', label='exact')\n",
    "plt.xlabel('t'); plt.ylabel('derivative')\n",
    "plt.legend()"
   ]
  },
  {
   "cell_type": "code",
   "execution_count": null,
   "metadata": {
    "colab": {},
    "colab_type": "code",
    "id": "DvHpC-xY21w5"
   },
   "outputs": [],
   "source": [
    "t = np.linspace(0,10, 1000)\n",
    "a = 10 #m/s^2\n",
    "u = 5\n",
    "v = u + a*t\n",
    "s = u*t + 0.5*a*t**2"
   ]
  },
  {
   "cell_type": "code",
   "execution_count": null,
   "metadata": {
    "colab": {
     "base_uri": "https://localhost:8080/",
     "height": 228
    },
    "colab_type": "code",
    "id": "Ec2Od3iA4zOt",
    "outputId": "054dcd4c-6750-4f74-b532-efc4dbb78bee"
   },
   "outputs": [
    {
     "data": {
      "text/plain": [
       "[<matplotlib.lines.Line2D at 0x7fb68bf75240>]"
      ]
     },
     "execution_count": 72,
     "metadata": {
      "tags": []
     },
     "output_type": "execute_result"
    },
    {
     "data": {
      "image/png": "[encoded data removed]",
      "text/plain": [
       "<Figure size 720x216 with 2 Axes>"
      ]
     },
     "metadata": {
      "needs_background": "light",
      "tags": []
     },
     "output_type": "display_data"
    }
   ],
   "source": [
    "# matplotlib gallery\n",
    "fig, ax = plt.subplots(nrows=1, ncols=2, figsize=(10,3))\n",
    "ax[0].plot(t,v)\n",
    "ax[1].plot(t,s)"
   ]
  },
  {
   "cell_type": "code",
   "execution_count": null,
   "metadata": {
    "colab": {},
    "colab_type": "code",
    "id": "UM6dfpuU6V0D"
   },
   "outputs": [],
   "source": [
    "# filter/selection\n",
    "#s[s>0], t[s>0]"
   ]
  },
  {
   "cell_type": "code",
   "execution_count": null,
   "metadata": {
    "colab": {},
    "colab_type": "code",
    "id": "oAfEv9ae67i5"
   },
   "outputs": [],
   "source": [
    "s = t(u+ 0.5*a*t)\n",
    "\n",
    "t =0 --> s=0\n",
    "t = -2*u/a --> s=0"
   ]
  },
  {
   "cell_type": "code",
   "execution_count": null,
   "metadata": {
    "colab": {
     "base_uri": "https://localhost:8080/",
     "height": 296
    },
    "colab_type": "code",
    "id": "6V6h4MsS5WRL",
    "outputId": "26004900-f20a-4459-bcaf-ec1d1ee3db34"
   },
   "outputs": [
    {
     "data": {
      "text/plain": [
       "Text(0, 0.5, 's')"
      ]
     },
     "execution_count": 78,
     "metadata": {
      "tags": []
     },
     "output_type": "execute_result"
    },
    {
     "data": {
      "image/png": "[encoded data removed]",
      "text/plain": [
       "<Figure size 432x288 with 1 Axes>"
      ]
     },
     "metadata": {
      "needs_background": "light",
      "tags": []
     },
     "output_type": "display_data"
    }
   ],
   "source": [
    "a = -2.5 #m/s^2\n",
    "s = u*t + 0.5*a*t**2\n",
    "\n",
    "plt.plot(t[s>=0], s[s>=0])\n",
    "plt.xlabel('t')\n",
    "plt.ylabel('s')\n"
   ]
  },
  {
   "cell_type": "code",
   "execution_count": null,
   "metadata": {
    "colab": {
     "base_uri": "https://localhost:8080/",
     "height": 228
    },
    "colab_type": "code",
    "id": "_yrWkn-c5x9l",
    "outputId": "2ce73053-00f8-4c98-ef13-4c6ad9f8fae0"
   },
   "outputs": [
    {
     "data": {
      "text/plain": [
       "[<matplotlib.lines.Line2D at 0x7fb68bbd0320>]"
      ]
     },
     "execution_count": 83,
     "metadata": {
      "tags": []
     },
     "output_type": "execute_result"
    },
    {
     "data": {
      "image/png": "[encoded data removed]",
      "text/plain": [
       "<Figure size 216x216 with 1 Axes>"
      ]
     },
     "metadata": {
      "needs_background": "light",
      "tags": []
     },
     "output_type": "display_data"
    }
   ],
   "source": [
    "theta = np.linspace(-2*np.pi, 2*np.pi, 100)\n",
    "r = 2\n",
    "x = r*np.cos(theta)\n",
    "y = r*np.sin(theta)\n",
    "plt.figure(figsize=(3,3))  #aspect ratio: equal\n",
    "plt.plot(x,y)"
   ]
  },
  {
   "cell_type": "code",
   "execution_count": null,
   "metadata": {
    "colab": {},
    "colab_type": "code",
    "id": "XHM3HoKF7TZ7"
   },
   "outputs": [],
   "source": [
    "#x^2+y^2 = r^2"
   ]
  }
 ],
 "metadata": {
  "colab": {
   "collapsed_sections": [],
   "name": "Untitled",
   "provenance": []
  },
  "kernelspec": {
   "display_name": "Python 3",
   "language": "python",
   "name": "python3"
  }
 },
 "nbformat": 4,
 "nbformat_minor": 1
}
