{
 "cells": [
  {
   "cell_type": "markdown",
   "metadata": {},
   "source": [
    "Error propagation\n",
    "\n",
    "Monte Carlo Methods/Integration\n",
    "\n",
    "Model fitting/Curve fitting"
   ]
  },
  {
   "cell_type": "code",
   "execution_count": 1,
   "metadata": {},
   "outputs": [],
   "source": [
    "import numpy as np\n",
    "import scipy as sp\n",
    "from scipy import stats as st\n",
    "import matplotlib.pyplot as plt\n",
    "%matplotlib inline"
   ]
  },
  {
   "cell_type": "markdown",
   "metadata": {},
   "source": [
    "Error Propagation"
   ]
  },
  {
   "cell_type": "code",
   "execution_count": 7,
   "metadata": {},
   "outputs": [],
   "source": [
    "X, errX = 10, 0.5\n",
    "Y, errY = 7, 0.25"
   ]
  },
  {
   "cell_type": "code",
   "execution_count": 8,
   "metadata": {},
   "outputs": [
    {
     "name": "stdout",
     "output_type": "stream",
     "text": [
      "17 0.56\n"
     ]
    }
   ],
   "source": [
    "# quard\n",
    "Z = X+Y\n",
    "Zerr = np.sqrt(errX**2 + errY**2)\n",
    "print(Z, np.round(Zerr,2))"
   ]
  },
  {
   "cell_type": "code",
   "execution_count": 11,
   "metadata": {},
   "outputs": [
    {
     "data": {
      "text/plain": [
       "(10.002461614637303,\n",
       " 0.4967398828707766,\n",
       " 7.000301126117911,\n",
       " 0.24955453967798844)"
      ]
     },
     "execution_count": 11,
     "metadata": {},
     "output_type": "execute_result"
    }
   ],
   "source": [
    "# MC\n",
    "nsample = 10000\n",
    "Xrvs = st.norm.rvs(loc=X, scale=errX, size=nsample)\n",
    "Yrvs = st.norm.rvs(loc=Y, scale=errY, size=nsample)\n",
    "Xrvs.mean(), Xrvs.std(), Yrvs.mean(), Yrvs.std()"
   ]
  },
  {
   "cell_type": "code",
   "execution_count": 17,
   "metadata": {},
   "outputs": [
    {
     "data": {
      "text/plain": [
       "(17.002762740755216, 0.5571461323418437)"
      ]
     },
     "execution_count": 17,
     "metadata": {},
     "output_type": "execute_result"
    }
   ],
   "source": [
    "Zrvs = Xrvs + Yrvs\n",
    "Zrvs.mean(), Zrvs.std()"
   ]
  },
  {
   "cell_type": "markdown",
   "metadata": {},
   "source": [
    "van der Waals equation [Page 42]\n",
    "\n",
    "$(P + a/V^2)(V-b) = RT$\n",
    "\n",
    "$P = \\frac{RT}{V-b} - \\frac{a}{V^2}$\n",
    "\n",
    "P=11.88, 0.02 MPa"
   ]
  },
  {
   "cell_type": "code",
   "execution_count": 19,
   "metadata": {},
   "outputs": [],
   "source": [
    "def pressure(V, T, a, b, R):\n",
    "    first_term = R*T/(V-b)\n",
    "    second_term = a/V**2\n",
    "    return first_term - second_term"
   ]
  },
  {
   "cell_type": "code",
   "execution_count": 22,
   "metadata": {},
   "outputs": [
    {
     "name": "stdout",
     "output_type": "stream",
     "text": [
      "11.882007832411261\n"
     ]
    }
   ],
   "source": [
    "V, Verr = 2e-4, 3e-7\n",
    "T, Terr = 298, 0.2\n",
    "a, b, R = 1.408e-1, 3.913e-5, 8.3145\n",
    "\n",
    "P = pressure(V, T, a, b, R)\n",
    "print(P/1e6)"
   ]
  },
  {
   "cell_type": "code",
   "execution_count": 25,
   "metadata": {},
   "outputs": [
    {
     "data": {
      "text/plain": [
       "(11.882211725435273, 0.02113226691148821)"
      ]
     },
     "execution_count": 25,
     "metadata": {},
     "output_type": "execute_result"
    }
   ],
   "source": [
    "Vrvs = st.norm.rvs(loc=V, scale=Verr, size=nsample)\n",
    "Trvs = st.norm.rvs(loc=T, scale=Terr, size=nsample)\n",
    "\n",
    "Prvs = pressure(Vrvs, Trvs, a, b, R)\n",
    "\n",
    "Prvs.mean()/1e6, Prvs.std()/1e6"
   ]
  },
  {
   "cell_type": "markdown",
   "metadata": {},
   "source": [
    "Monte Carlo Integration\n",
    "\n",
    "https://www.wolframalpha.com/input/?i=NIntegrate%5B1%2F%281%2BSinh%5B2x%5D*Log%5Bx%5D%5E2%29%2C+%7Bx%2C0.8%2C3%7D%5D\n",
    "\n",
    "\n",
    "$y = \\frac{1}{1 + \\sinh(2x) \\log(x)^2}$, x=[0.8,3]\n",
    "\n",
    "Answer = 0.67684"
   ]
  },
  {
   "cell_type": "code",
   "execution_count": 26,
   "metadata": {},
   "outputs": [],
   "source": [
    "def func(x):\n",
    "    return 1/(1 + np.sinh(2*x)*np.log(x)**2)"
   ]
  },
  {
   "cell_type": "code",
   "execution_count": 37,
   "metadata": {},
   "outputs": [
    {
     "data": {
      "text/plain": [
       "<matplotlib.legend.Legend at 0x1a17a6c860>"
      ]
     },
     "execution_count": 37,
     "metadata": {},
     "output_type": "execute_result"
    },
    {
     "data": {
      "image/png": "[encoded data removed]",
      "text/plain": [
       "<Figure size 432x288 with 1 Axes>"
      ]
     },
     "metadata": {
      "needs_background": "light"
     },
     "output_type": "display_data"
    }
   ],
   "source": [
    "x = np.linspace(0.8, 3, 100)\n",
    "y = func(x)\n",
    "ymin, ymax = y.min(), y.max()\n",
    "\n",
    "plt.plot(x, y, label='analytical form')\n",
    "plt.xlabel('x');plt.ylabel('y=func')\n",
    "plt.legend()"
   ]
  },
  {
   "cell_type": "code",
   "execution_count": 58,
   "metadata": {},
   "outputs": [],
   "source": [
    "nsample = 250000\n",
    "a, b = 0.8, 3\n",
    "\n",
    "xrvs = st.uniform.rvs(a, b-a, nsample)\n",
    "yrvs = st.uniform.rvs(ymin, ymax, nsample)"
   ]
  },
  {
   "cell_type": "code",
   "execution_count": 59,
   "metadata": {},
   "outputs": [
    {
     "data": {
      "text/plain": [
       "<matplotlib.legend.Legend at 0x1a1bd2bc88>"
      ]
     },
     "execution_count": 59,
     "metadata": {},
     "output_type": "execute_result"
    },
    {
     "data": {
      "image/png": "[encoded data removed]",
      "text/plain": [
       "<Figure size 432x288 with 1 Axes>"
      ]
     },
     "metadata": {
      "needs_background": "light"
     },
     "output_type": "display_data"
    }
   ],
   "source": [
    "plt.plot(xrvs, yrvs,',',color='C0', label='mc sample')\n",
    "plt.plot(x, y, 'k', label='analytical form')\n",
    "plt.xlabel('x');plt.ylabel('y=func')\n",
    "plt.legend()"
   ]
  },
  {
   "cell_type": "code",
   "execution_count": 60,
   "metadata": {},
   "outputs": [],
   "source": [
    "yrvs_selected = []\n",
    "xrvs_selected = []\n",
    "for i in range(nsample):\n",
    "    if yrvs[i] <= func(xrvs[i]):\n",
    "        yrvs_selected.append(yrvs[i])\n",
    "        xrvs_selected.append(xrvs[i])"
   ]
  },
  {
   "cell_type": "code",
   "execution_count": 61,
   "metadata": {},
   "outputs": [
    {
     "data": {
      "text/plain": [
       "<matplotlib.legend.Legend at 0x1a1d5fbfd0>"
      ]
     },
     "execution_count": 61,
     "metadata": {},
     "output_type": "execute_result"
    },
    {
     "data": {
      "image/png": "[encoded data removed]",
      "text/plain": [
       "<Figure size 432x288 with 1 Axes>"
      ]
     },
     "metadata": {
      "needs_background": "light"
     },
     "output_type": "display_data"
    }
   ],
   "source": [
    "plt.plot(xrvs, yrvs,',',color='C0', label='mc sample')\n",
    "plt.plot(xrvs_selected, yrvs_selected,',',color='C1', label='mc sample under the curve')\n",
    "plt.plot(x, y, 'k', label='analytical form')\n",
    "plt.xlabel('x');plt.ylabel('y=func')\n",
    "plt.legend()"
   ]
  },
  {
   "cell_type": "code",
   "execution_count": 62,
   "metadata": {},
   "outputs": [
    {
     "data": {
      "text/plain": [
       "0.6696184000000001"
      ]
     },
     "execution_count": 62,
     "metadata": {},
     "output_type": "execute_result"
    }
   ],
   "source": [
    "# Monte Carlo Integration formula\n",
    "#ymax*(b-a)*points_under_the_curve/total_points\n",
    "\n",
    "ymax*(b-a)*len(yrvs_selected)/nsample"
   ]
  },
  {
   "cell_type": "code",
   "execution_count": null,
   "metadata": {},
   "outputs": [],
   "source": []
  }
 ],
 "metadata": {
  "kernelspec": {
   "display_name": "Python 3",
   "language": "python",
   "name": "python3"
  },
  "language_info": {
   "codemirror_mode": {
    "name": "ipython",
    "version": 3
   },
   "file_extension": ".py",
   "mimetype": "text/x-python",
   "name": "python",
   "nbconvert_exporter": "python",
   "pygments_lexer": "ipython3",
   "version": "3.7.3"
  },
  "toc": {
   "base_numbering": 1,
   "nav_menu": {},
   "number_sections": true,
   "sideBar": true,
   "skip_h1_title": false,
   "title_cell": "Table of Contents",
   "title_sidebar": "Contents",
   "toc_cell": false,
   "toc_position": {},
   "toc_section_display": true,
   "toc_window_display": false
  }
 },
 "nbformat": 4,
 "nbformat_minor": 2
}
