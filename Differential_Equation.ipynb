{
  "nbformat": 4,
  "nbformat_minor": 0,
  "metadata": {
    "colab": {
      "name": "Differential_Equation.ipynb",
      "provenance": []
    },
    "kernelspec": {
      "name": "python3",
      "display_name": "Python 3"
    }
  },
  "cells": [
    {
      "cell_type": "code",
      "metadata": {
        "id": "51X2hi2FIBqa",
        "colab_type": "code",
        "colab": {}
      },
      "source": [
        "import numpy as np\n",
        "import matplotlib.pyplot as plt\n",
        "import scipy.integrate as sn"
      ],
      "execution_count": null,
      "outputs": []
    },
    {
      "cell_type": "markdown",
      "metadata": {
        "id": "rRzS4H9qIkHG",
        "colab_type": "text"
      },
      "source": [
        "1st order ODE\n",
        "\n",
        "$\\frac{dy}{dx} + y = x$,\n",
        "\n",
        "y(0) = 1\n",
        "\n",
        "Above has a closed-form solution:\n",
        "\n",
        "$y = x - 1 + 2 e^{-x}$\n",
        "\n",
        "\n",
        "1. Exact/Analytical solution\n",
        "2. ODEINT (scipy.integrate)\n",
        "3. RK Method\n",
        "\n",
        "SHM: \n",
        "https://scicomp.stackexchange.com/questions/26877/using-rk2-method-to-solve-the-simple-harmonic-oscillator-of-a-horizontal-mass-on"
      ]
    },
    {
      "cell_type": "code",
      "metadata": {
        "id": "culCGyncInvP",
        "colab_type": "code",
        "colab": {}
      },
      "source": [
        "x0, y0 = 0.0, 1.0\n",
        "x = np.linspace(0, 5, 100)\n",
        "\n",
        "def exacty(x):\n",
        "    return x - 1 + 2*np.exp(-x)\n",
        "\n",
        "def flhs(y,x):\n",
        "    return x-y"
      ],
      "execution_count": null,
      "outputs": []
    },
    {
      "cell_type": "code",
      "metadata": {
        "id": "SQPlMGT3Jnfk",
        "colab_type": "code",
        "colab": {}
      },
      "source": [
        "odeys = sn.odeint(flhs, y0, x )"
      ],
      "execution_count": null,
      "outputs": []
    },
    {
      "cell_type": "code",
      "metadata": {
        "id": "y6DUtysiKEk4",
        "colab_type": "code",
        "colab": {
          "base_uri": "https://localhost:8080/",
          "height": 283
        },
        "outputId": "2c3f89bb-c0fb-4a0b-de84-a3f990265792"
      },
      "source": [
        "plt.plot(x, exacty(x),label='exact')\n",
        "plt.plot(x, odeys.squeeze(),'--', label='scipy')\n",
        "plt.legend()"
      ],
      "execution_count": null,
      "outputs": [
        {
          "output_type": "execute_result",
          "data": {
            "text/plain": [
              "<matplotlib.legend.Legend at 0x7f1fefa63400>"
            ]
          },
          "metadata": {
            "tags": []
          },
          "execution_count": 26
        },
        {
          "output_type": "display_data",
          "data": {
            "image/png": "[encoded data removed]",
            "text/plain": [
              "<Figure size 432x288 with 1 Axes>"
            ]
          },
          "metadata": {
            "tags": [],
            "needs_background": "light"
          }
        }
      ]
    },
    {
      "cell_type": "code",
      "metadata": {
        "id": "q4Z_IwFnKVSG",
        "colab_type": "code",
        "colab": {
          "base_uri": "https://localhost:8080/",
          "height": 35
        },
        "outputId": "23b872f2-dc5e-462f-a6bd-5ee4bba62e0b"
      },
      "source": [
        "# RK4\n",
        "\n",
        "#stepsize\n",
        "\n",
        "\n",
        "h = 0.1\n",
        "k1 = flhs(y0, x0)\n",
        "k2 = flhs(y0 + h*k1/2, x0 + h/2)\n",
        "k3 = flhs(y0 + h*k2/2, x0 + h/2)\n",
        "k4 = flhs(y0 + h*k3, x0 + h)\n",
        "\n",
        "x1 = x0 + h\n",
        "y1 = y0 + (h/6)*(k1 + 2*k2 + 2*k3 + k4)\n",
        "\n",
        "print(x0, y0, k1, k2, k3, k4, x1, y1)\n",
        "\n"
      ],
      "execution_count": null,
      "outputs": [
        {
          "output_type": "stream",
          "text": [
            "0.0 1.0 -1.0 -0.8999999999999999 -0.9049999999999999 -0.8095 0.1 0.909675\n"
          ],
          "name": "stdout"
        }
      ]
    },
    {
      "cell_type": "code",
      "metadata": {
        "id": "DceQsjAPMoZD",
        "colab_type": "code",
        "colab": {}
      },
      "source": [
        "def rk4(flhs, x0, y0, n=50, h=0.1):\n",
        "\n",
        "    x = []\n",
        "    y = []\n",
        "    for i in range(n):\n",
        "        k1 = flhs(y0, x0)\n",
        "        k2 = flhs(y0 + h*k1/2, x0 + h/2)\n",
        "        k3 = flhs(y0 + h*k2/2, x0 + h/2)\n",
        "        k4 = flhs(y0 + h*k3, x0 + h)\n",
        "\n",
        "        x1 = x0 + h\n",
        "        y1 = y0 + (h/6)*(k1 + 2*k2 + 2*k3 + k4)\n",
        "\n",
        "        #print(x0, y0, k1, k2, k3, k4, x1, y1)\n",
        "        x.append(x0)\n",
        "        y.append(y0)\n",
        "        \n",
        "\n",
        "        x0 = x1\n",
        "        y0 = y1\n",
        "    \n",
        "    return x, y"
      ],
      "execution_count": null,
      "outputs": []
    },
    {
      "cell_type": "code",
      "metadata": {
        "id": "oPU3_s54NTFd",
        "colab_type": "code",
        "colab": {}
      },
      "source": [
        "xrk4, yrk4 = rk4(flhs, x0, y0)"
      ],
      "execution_count": null,
      "outputs": []
    },
    {
      "cell_type": "code",
      "metadata": {
        "id": "y81-ZGOfNVtW",
        "colab_type": "code",
        "colab": {
          "base_uri": "https://localhost:8080/",
          "height": 283
        },
        "outputId": "8987c7fd-5b14-4600-e770-899db86d3b43"
      },
      "source": [
        "plt.plot(x, exacty(x),'--', lw=4., label='exact')\n",
        "plt.plot(x, odeys.squeeze(),'--',lw=3, label='scipy')\n",
        "plt.plot(xrk4, yrk4,'--', lw=2, label='rk4')\n",
        "plt.legend()"
      ],
      "execution_count": null,
      "outputs": [
        {
          "output_type": "execute_result",
          "data": {
            "text/plain": [
              "<matplotlib.legend.Legend at 0x7f1fef2a7b70>"
            ]
          },
          "metadata": {
            "tags": []
          },
          "execution_count": 65
        },
        {
          "output_type": "display_data",
          "data": {
            "image/png": "[encoded data removed]",
            "text/plain": [
              "<Figure size 432x288 with 1 Axes>"
            ]
          },
          "metadata": {
            "tags": [],
            "needs_background": "light"
          }
        }
      ]
    },
    {
      "cell_type": "code",
      "metadata": {
        "id": "yQNzJm2rOeGB",
        "colab_type": "code",
        "colab": {}
      },
      "source": [
        "# Classical mechanics (dynamical system)\n",
        "# Kepler's motion, SHM\n",
        "https://www.compadre.org/PICUP/resources/Numerical-Integration/\n",
        "\n",
        "# Leapfrog/Velocity-verlet\n",
        "\n",
        "ref: http://cvarin.github.io/CSci-Survival-Guide/leapfrog.html"
      ],
      "execution_count": null,
      "outputs": []
    },
    {
      "cell_type": "markdown",
      "metadata": {
        "id": "c6inkCweQA_T",
        "colab_type": "text"
      },
      "source": [
        "(Leapfrog)\n",
        "$\\frac{d^2 x}{dt^2} = a(x)$\n",
        "\n",
        "or  (RK4)\n",
        "\n",
        "$\\frac{dv}{dt} = a(x)$,\n",
        "$\\frac{dx}{dt} = v(x)$\n",
        "\n",
        "or \n",
        "\n",
        "$d{\\theta}/dt = \\omega$,\n",
        "$d{\\omega}/dt = - k \\theta$\n",
        "\n",
        "$d{\\omega}/dt = -k sin(theta) - \\gamma \\omega$\n",
        "\n",
        "\n",
        "Population growth\n",
        "\n",
        "N'(t) = rN(t)\n",
        "\n",
        "\n"
      ]
    },
    {
      "cell_type": "code",
      "metadata": {
        "id": "mNxEud9bPBeg",
        "colab_type": "code",
        "colab": {}
      },
      "source": [
        "theta0 = np.radians(5)\n",
        "omega0 = 0\n",
        "g = 9.8\n",
        "L = 1\n",
        "k = g/L\n",
        "\n",
        "dt = 0.01"
      ],
      "execution_count": null,
      "outputs": []
    },
    {
      "cell_type": "code",
      "metadata": {
        "id": "ABR4AD8AgU3j",
        "colab_type": "code",
        "colab": {}
      },
      "source": [
        "# Euler's method\n",
        "\n",
        "omega1 = omega0 - k theta0 *dt\n",
        "theta1 = theta0 + omega0*dt"
      ],
      "execution_count": null,
      "outputs": []
    }
  ]
}